{
  "nbformat": 4,
  "nbformat_minor": 0,
  "metadata": {
    "colab": {
      "provenance": []
    },
    "kernelspec": {
      "name": "python3",
      "display_name": "Python 3"
    },
    "language_info": {
      "name": "python"
    }
  },
  "cells": [
    {
      "cell_type": "code",
      "source": [
        "pip install --upgrade pip"
      ],
      "metadata": {
        "id": "uQ4V2dz2RBYC",
        "outputId": "328b4168-ab37-4a39-b5a7-2eff54354ded",
        "colab": {
          "base_uri": "https://localhost:8080/"
        }
      },
      "execution_count": null,
      "outputs": [
        {
          "output_type": "stream",
          "name": "stdout",
          "text": [
            "Looking in indexes: https://pypi.org/simple, https://us-python.pkg.dev/colab-wheels/public/simple/\n",
            "Requirement already satisfied: pip in /usr/local/lib/python3.10/dist-packages (23.1.2)\n"
          ]
        }
      ]
    },
    {
      "cell_type": "code",
      "source": [
        "!pip install pyaudio"
      ],
      "metadata": {
        "colab": {
          "base_uri": "https://localhost:8080/"
        },
        "id": "kjvxF-IAQADg",
        "outputId": "f0723496-e1dd-4534-bf62-9b576bf03fa1"
      },
      "execution_count": null,
      "outputs": [
        {
          "output_type": "stream",
          "name": "stdout",
          "text": [
            "Looking in indexes: https://pypi.org/simple, https://us-python.pkg.dev/colab-wheels/public/simple/\n",
            "Collecting pyaudio\n",
            "  Using cached PyAudio-0.2.13.tar.gz (46 kB)\n",
            "  Installing build dependencies ... \u001b[?25l\u001b[?25hdone\n",
            "  Getting requirements to build wheel ... \u001b[?25l\u001b[?25hdone\n",
            "  Preparing metadata (pyproject.toml) ... \u001b[?25l\u001b[?25hdone\n",
            "Building wheels for collected packages: pyaudio\n",
            "  \u001b[1;31merror\u001b[0m: \u001b[1msubprocess-exited-with-error\u001b[0m\n",
            "  \n",
            "  \u001b[31m×\u001b[0m \u001b[32mBuilding wheel for pyaudio \u001b[0m\u001b[1;32m(\u001b[0m\u001b[32mpyproject.toml\u001b[0m\u001b[1;32m)\u001b[0m did not run successfully.\n",
            "  \u001b[31m│\u001b[0m exit code: \u001b[1;36m1\u001b[0m\n",
            "  \u001b[31m╰─>\u001b[0m See above for output.\n",
            "  \n",
            "  \u001b[1;35mnote\u001b[0m: This error originates from a subprocess, and is likely not a problem with pip.\n",
            "  Building wheel for pyaudio (pyproject.toml) ... \u001b[?25l\u001b[?25herror\n",
            "\u001b[31m  ERROR: Failed building wheel for pyaudio\u001b[0m\u001b[31m\n",
            "\u001b[0mFailed to build pyaudio\n",
            "\u001b[31mERROR: Could not build wheels for pyaudio, which is required to install pyproject.toml-based projects\u001b[0m\u001b[31m\n",
            "\u001b[0m"
          ]
        }
      ]
    },
    {
      "cell_type": "code",
      "execution_count": null,
      "metadata": {
        "colab": {
          "base_uri": "https://localhost:8080/",
          "height": 339
        },
        "id": "lLCq43KoEcnk",
        "outputId": "fba2bf1a-ee4c-4df2-8446-87e58e366f45"
      },
      "outputs": [
        {
          "output_type": "error",
          "ename": "ModuleNotFoundError",
          "evalue": "ignored",
          "traceback": [
            "\u001b[0;31m---------------------------------------------------------------------------\u001b[0m",
            "\u001b[0;31mModuleNotFoundError\u001b[0m                       Traceback (most recent call last)",
            "\u001b[0;32m<ipython-input-1-83857cd309d0>\u001b[0m in \u001b[0;36m<cell line: 6>\u001b[0;34m()\u001b[0m\n\u001b[1;32m      4\u001b[0m \u001b[0;32mimport\u001b[0m \u001b[0mthreading\u001b[0m\u001b[0;34m\u001b[0m\u001b[0;34m\u001b[0m\u001b[0m\n\u001b[1;32m      5\u001b[0m \u001b[0;32mimport\u001b[0m \u001b[0mtkinter\u001b[0m \u001b[0;32mas\u001b[0m \u001b[0mtk\u001b[0m\u001b[0;34m\u001b[0m\u001b[0;34m\u001b[0m\u001b[0m\n\u001b[0;32m----> 6\u001b[0;31m \u001b[0;32mimport\u001b[0m \u001b[0mpyaudio\u001b[0m\u001b[0;34m\u001b[0m\u001b[0;34m\u001b[0m\u001b[0m\n\u001b[0m",
            "\u001b[0;31mModuleNotFoundError\u001b[0m: No module named 'pyaudio'",
            "",
            "\u001b[0;31m---------------------------------------------------------------------------\u001b[0;32m\nNOTE: If your import is failing due to a missing package, you can\nmanually install dependencies using either !pip or !apt.\n\nTo view examples of installing some common dependencies, click the\n\"Open Examples\" button below.\n\u001b[0;31m---------------------------------------------------------------------------\u001b[0m\n"
          ],
          "errorDetails": {
            "actions": [
              {
                "action": "open_url",
                "actionText": "Open Examples",
                "url": "/notebooks/snippets/importing_libraries.ipynb"
              }
            ]
          }
        }
      ],
      "source": [
        "import os\n",
        "import wave\n",
        "import time\n",
        "import threading\n",
        "import tkinter as tk\n",
        "import pyaudio\n"
      ]
    },
    {
      "cell_type": "code",
      "source": [
        "class VoiceRecorder:\n",
        "  def __init__(self):\n",
        "    self.root = rk.Tk()\n",
        "    self.root.resizeable(False,False)\n",
        "    self.button = tk.Button(text = \"🎤\", font = (\"Arial\",120,\"bold\"),\n",
        "                            command = self.click_handler)\n",
        "    self.button.pack\n",
        "    self.label = tk.Label(text = \"00:00:00\")\n",
        "    self.label.pack()\n",
        "    self.recording = False\n",
        "    self.root.mainloop()\n",
        "  def click_handler(self):\n",
        "    if self.recording\n",
        "        self.recording = False;\n",
        "        self.button.config(fg = \"black\")\n",
        "    else:\n",
        "      self.recording = True\n",
        "      self.button.config(fg = \"red\")\n",
        "      threading.Thread(target = self.record).start()\n",
        "\n",
        "  def record(self):\n",
        "      audio = pyaudio.PyAudio()\n",
        "      stream = audio.open(format = pyaudio.paInt16, channel = 1 , rate = 44100 , input = True, frames_per_buffer = 1024)\n",
        "\n",
        "\n",
        "      frames = []\n",
        "\n",
        "      start = time.time()\n",
        "\n",
        "      while self.recording():\n",
        "        data = stream.read(1082)\n",
        "        frames.append(data)\n",
        "\n",
        "        passed = time.time()-start\n",
        "        secs = passed % 60\n",
        "        mins = passed // 60\n",
        "        hours = mins //60\n",
        "        self.label.config(text = f\"{int(hours):02d}:{int(mins):02d}:{int(secs):02d}\")\n",
        " stream.stop_stream()\n",
        " stream.close()\n",
        " audio.terminate()\n",
        "\n",
        " exists = True\n",
        " i = 1\n",
        " while exists :\n",
        "    if os.path.exists(f\"recording{i}.wav\"):\n",
        "      i += 1\n",
        "    else:\n",
        "      exists = False\n",
        "sound_file = wave.open(f\"recording{i}.wav\",\"wb\")\n",
        "sound_file.setnchannels(1)\n",
        "sound_file.setsampwidth(audio.get_sample_size(pyaudi.paInt16))\n",
        "sound_file.setframerate(44100)\n",
        "sound_file.writeframes(b\"\".join(frames))\n",
        "sound_file.close()\n",
        "\n",
        "\n",
        "\n",
        "\n",
        "\n",
        "VoiceRecorder()"
      ],
      "metadata": {
        "id": "sQJghT0jEvmx"
      },
      "execution_count": null,
      "outputs": []
    },
    {
      "cell_type": "code",
      "source": [
        "VoiceRecorder()"
      ],
      "metadata": {
        "id": "HuX7ARwjGPhi"
      },
      "execution_count": null,
      "outputs": []
    }
  ]
}